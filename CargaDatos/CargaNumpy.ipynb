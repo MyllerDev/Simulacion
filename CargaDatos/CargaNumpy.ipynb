{
 "cells": [
  {
   "cell_type": "markdown",
   "id": "f1c59cb5",
   "metadata": {},
   "source": [
    "CARGANDO DATOS CON NUMPY"
   ]
  },
  {
   "cell_type": "code",
   "execution_count": 4,
   "id": "cf7e5d85",
   "metadata": {},
   "outputs": [
    {
     "name": "stdout",
     "output_type": "stream",
     "text": [
      "[[  6. 148.  72. ... 627.  50.   1.]\n",
      " [  1.  85.  66. ... 351.  31.   0.]\n",
      " [  8. 183.  64. ... 672.  32.   1.]\n",
      " ...\n",
      " [  5. 121.  72. ... 245.  30.   0.]\n",
      " [  1. 126.  60. ... 349.  47.   1.]\n",
      " [  1.  93.  70. ... 315.  23.   0.]]\n"
     ]
    }
   ],
   "source": [
    "import csv\n",
    "import numpy\n",
    "filename = 'data/pima-indians-diabetes.csv'\n",
    "raw_data = open(filename, 'r')\n",
    "reader = csv.reader(raw_data, delimiter=',', quoting = csv.QUOTE_NONE)\n",
    "x = list(reader)\n",
    "data = numpy.array(x).astype('float')\n",
    "print(data)"
   ]
  },
  {
   "cell_type": "code",
   "execution_count": 3,
   "id": "807356c8",
   "metadata": {},
   "outputs": [
    {
     "name": "stdout",
     "output_type": "stream",
     "text": [
      "(4177, 8)\n",
      "[[ 0.455   0.365   0.095  ...  0.101   0.15   15.    ]\n",
      " [ 0.35    0.265   0.09   ...  0.0485  0.07    7.    ]\n",
      " [ 0.53    0.42    0.135  ...  0.1415  0.21    9.    ]\n",
      " ...\n",
      " [ 0.6     0.475   0.205  ...  0.2875  0.308   9.    ]\n",
      " [ 0.625   0.485   0.15   ...  0.261   0.296  10.    ]\n",
      " [ 0.71    0.555   0.195  ...  0.3765  0.495  12.    ]]\n"
     ]
    }
   ],
   "source": [
    "import csv\n",
    "import numpy as np\n",
    "\n",
    "filename = 'data/abalone.csv'\n",
    "with open(filename, 'r') as raw_data:\n",
    "    reader = csv.reader(raw_data, delimiter=',', quoting=csv.QUOTE_NONE)\n",
    "    x = list(reader)\n",
    "\n",
    "# Eliminar la primera columna (columna de sexo)\n",
    "for row in x:\n",
    "    del row[0]\n",
    "\n",
    "data = np.array(x).astype('float')\n",
    "print(data.shape)\n",
    "print(data)\n"
   ]
  },
  {
   "cell_type": "code",
   "execution_count": 11,
   "id": "0b701f6a",
   "metadata": {},
   "outputs": [
    {
     "name": "stdout",
     "output_type": "stream",
     "text": [
      "(286, 10)\n"
     ]
    }
   ],
   "source": [
    "import csv\n",
    "import numpy as np\n",
    "\n",
    "filename = 'data/breast-cancer.csv'\n",
    "\n",
    "with open(filename, 'r') as raw_data:\n",
    "    reader = csv.reader(raw_data, delimiter=',', quoting=csv.QUOTE_NONE)\n",
    "    x = list(reader)\n",
    "\n",
    "# Convertimos a array de objetos por si hay texto\n",
    "data = np.array(x)\n",
    "\n",
    "# Mostrar forma: (filas, columnas)\n",
    "print(data.shape)\n",
    "\n",
    "\n",
    "\n"
   ]
  },
  {
   "cell_type": "code",
   "execution_count": 26,
   "id": "695a43eb",
   "metadata": {},
   "outputs": [
    {
     "name": "stdout",
     "output_type": "stream",
     "text": [
      "Columnas numéricas: (252, 4)\n",
      "Columnas de texto: (252, 15)\n"
     ]
    }
   ],
   "source": [
    "import csv\n",
    "import numpy as np\n",
    "\n",
    "filename = 'data/countries.csv'\n",
    "\n",
    "# Abrir y leer el archivo CSV\n",
    "with open(filename, 'r', encoding='utf-8') as raw_data:\n",
    "    reader = csv.reader(raw_data, delimiter=';', quoting=csv.QUOTE_MINIMAL)\n",
    "    data = list(reader)\n",
    "\n",
    "# Extraer encabezado\n",
    "header = data[0]\n",
    "rows = data[1:]\n",
    "\n",
    "# Convertir a arreglo de NumPy (como texto inicialmente)\n",
    "data_np = np.array(rows)\n",
    "\n",
    "# Identificar columnas numéricas y de texto\n",
    "numeric_data = []\n",
    "text_data = []\n",
    "\n",
    "# Recorremos cada columna para separarlas según si es numérica o no\n",
    "for col_index in range(data_np.shape[1]):\n",
    "    try:\n",
    "        # Intentamos convertir toda la columna a float\n",
    "        col = data_np[:, col_index].astype(float)\n",
    "        numeric_data.append(col)\n",
    "    except ValueError:\n",
    "        # Si falla, la tratamos como texto\n",
    "        col = data_np[:, col_index]\n",
    "        text_data.append(col)\n",
    "\n",
    "# Convertimos a arrays\n",
    "numeric_array = np.array(numeric_data).T  # Transpuesta para que cada fila sea un país\n",
    "text_array = np.array(text_data).T\n",
    "\n",
    "# Mostrar formas\n",
    "print(\"Columnas numéricas:\", numeric_array.shape)\n",
    "print(\"Columnas de texto:\", text_array.shape)\n",
    "\n",
    "\n"
   ]
  },
  {
   "cell_type": "code",
   "execution_count": 27,
   "id": "6b232c98",
   "metadata": {},
   "outputs": [
    {
     "name": "stdout",
     "output_type": "stream",
     "text": [
      "Columnas numéricas: ['duration', 'credit_amount', 'installment_commitment', 'residence_since', 'age', 'existing_credits', 'num_dependents']\n",
      "Forma de numeric_array: (1000, 7)\n",
      "Columnas de texto: ['checking_status', 'credit_history', 'purpose', 'savings_status', 'employment', 'personal_status', 'other_parties', 'property_magnitude', 'other_payment_plans', 'housing', 'job', 'own_telephone', 'foreign_worker', 'class']\n",
      "Forma de text_array: (1000, 14)\n"
     ]
    }
   ],
   "source": [
    "import csv\n",
    "import numpy as np\n",
    "\n",
    "filename = 'data/credit-g.csv'\n",
    "\n",
    "# Leer archivo, eliminando comillas simples\n",
    "with open(filename, 'r', encoding='utf-8') as file:\n",
    "    reader = csv.reader(file)\n",
    "    data = [ [cell.strip().replace(\"'\", \"\") for cell in row] for row in reader ]\n",
    "\n",
    "# Separar encabezado y datos\n",
    "header = data[0]\n",
    "rows = data[1:]\n",
    "\n",
    "# Convertir a arreglo numpy como texto inicialmente\n",
    "data_np = np.array(rows)\n",
    "\n",
    "# Separar columnas numéricas y de texto\n",
    "numeric_data = []\n",
    "text_data = []\n",
    "numeric_headers = []\n",
    "text_headers = []\n",
    "\n",
    "for col_index in range(data_np.shape[1]):\n",
    "    try:\n",
    "        col = data_np[:, col_index].astype(float)\n",
    "        numeric_data.append(col)\n",
    "        numeric_headers.append(header[col_index])\n",
    "    except ValueError:\n",
    "        text_data.append(data_np[:, col_index])\n",
    "        text_headers.append(header[col_index])\n",
    "\n",
    "# Convertir a arrays finales\n",
    "numeric_array = np.array(numeric_data).T\n",
    "text_array = np.array(text_data).T\n",
    "\n",
    "# Imprimir resumen\n",
    "print(\"Columnas numéricas:\", numeric_headers)\n",
    "print(\"Forma de numeric_array:\", numeric_array.shape)\n",
    "print(\"Columnas de texto:\", text_headers)\n",
    "print(\"Forma de text_array:\", text_array.shape)\n"
   ]
  },
  {
   "cell_type": "code",
   "execution_count": 33,
   "id": "9edab401",
   "metadata": {},
   "outputs": [
    {
     "name": "stdout",
     "output_type": "stream",
     "text": [
      "(214, 9)\n"
     ]
    }
   ],
   "source": [
    "import csv\n",
    "import numpy as np\n",
    "\n",
    "filename = 'data/glass.csv'\n",
    "\n",
    "# Leer el archivo CSV\n",
    "with open(filename, 'r', encoding='utf-8') as raw_data:\n",
    "    reader = csv.reader(raw_data, delimiter=',')\n",
    "    x = list(reader)\n",
    "\n",
    "header = x[0]      # Encabezados\n",
    "rows = x[1:]       # Datos\n",
    "\n",
    "# Limpiar comillas y espacios\n",
    "cleaned_rows = []\n",
    "for row in rows:\n",
    "    cleaned_row = [item.strip().replace(\"'\", \"\") for item in row]\n",
    "    cleaned_rows.append(cleaned_row)\n",
    "\n",
    "# Identificar columnas numéricas\n",
    "numeric_indices = []\n",
    "for i in range(len(cleaned_rows[0])):\n",
    "    try:\n",
    "        float(cleaned_rows[0][i])\n",
    "        numeric_indices.append(i)\n",
    "    except ValueError:\n",
    "        continue  # Saltar si no se puede convertir\n",
    "\n",
    "# Filtrar solo columnas numéricas\n",
    "numeric_data = []\n",
    "for row in cleaned_rows:\n",
    "    numeric_row = [row[i] for i in numeric_indices]\n",
    "    numeric_data.append(numeric_row)\n",
    "\n",
    "# Convertir a numpy array\n",
    "data = np.array(numeric_data).astype(float)\n",
    "\n",
    "# Mostrar forma\n",
    "print(data.shape)\n",
    "\n"
   ]
  },
  {
   "cell_type": "code",
   "execution_count": 39,
   "id": "3b9a3bd1",
   "metadata": {},
   "outputs": [
    {
     "name": "stdout",
     "output_type": "stream",
     "text": [
      "(506, 14)\n"
     ]
    }
   ],
   "source": [
    "import csv\n",
    "import numpy as np\n",
    "\n",
    "# Leer datos ignorando la cabecera si la tiene\n",
    "data = np.genfromtxt('data/housing.csv', delimiter=None)\n",
    "\n",
    "print(data.shape)\n",
    "\n"
   ]
  },
  {
   "cell_type": "code",
   "execution_count": 41,
   "id": "894d0f11",
   "metadata": {},
   "outputs": [
    {
     "name": "stdout",
     "output_type": "stream",
     "text": [
      "Shape de X (datos): (150, 4)\n",
      "Shape de y (etiquetas): (150,)\n"
     ]
    }
   ],
   "source": [
    "import csv\n",
    "import numpy as np\n",
    "\n",
    "filename = 'data/iris.data.csv'\n",
    "\n",
    "# Leer el archivo ignorando líneas vacías\n",
    "with open(filename, 'r') as f:\n",
    "    reader = csv.reader(f)\n",
    "    rows = [row for row in reader if row]  # eliminar filas vacías\n",
    "\n",
    "# Separar características (float) y etiquetas (string)\n",
    "X = []\n",
    "y = []\n",
    "\n",
    "for row in rows:\n",
    "    # Último valor es la clase, los anteriores son floats\n",
    "    X.append([float(value) for value in row[:-1]])\n",
    "    y.append(row[-1])\n",
    "\n",
    "# Convertir a arrays numpy\n",
    "X = np.array(X)\n",
    "y = np.array(y)\n",
    "\n",
    "# Mostrar forma de los datos\n",
    "print(\"Shape de X (datos):\", X.shape)\n",
    "print(\"Shape de y (etiquetas):\", y.shape)\n"
   ]
  },
  {
   "cell_type": "code",
   "execution_count": 42,
   "id": "fecfc590",
   "metadata": {},
   "outputs": [
    {
     "name": "stdout",
     "output_type": "stream",
     "text": [
      "(768, 9)\n"
     ]
    }
   ],
   "source": [
    "import csv\n",
    "import numpy\n",
    "filename = 'data/pima-indians-diabetes.data.csv'\n",
    "raw_data = open(filename, 'r')\n",
    "reader = csv.reader(raw_data, delimiter=',', quoting = csv.QUOTE_NONE)\n",
    "x = list(reader)\n",
    "data = numpy.array(x).astype('float')\n",
    "print(data.shape)"
   ]
  },
  {
   "cell_type": "code",
   "execution_count": 44,
   "id": "61401906",
   "metadata": {},
   "outputs": [
    {
     "name": "stdout",
     "output_type": "stream",
     "text": [
      "Shape de X: (208, 60)\n",
      "Shape de y: (208,)\n"
     ]
    }
   ],
   "source": [
    "import csv\n",
    "import numpy as np\n",
    "\n",
    "filename = 'data/sonar.all-data.csv'\n",
    "\n",
    "# Leer el archivo correctamente\n",
    "with open(filename, 'r') as raw_data:\n",
    "    reader = csv.reader(raw_data)\n",
    "    rows = list(reader)\n",
    "\n",
    "# Separar datos numéricos y etiquetas\n",
    "X = [row[:-1] for row in rows]  # 60 columnas numéricas\n",
    "y = [row[-1] for row in rows]  # 1 columna de clase ('R' o 'M')\n",
    "\n",
    "# Convertir datos numéricos a float\n",
    "X = np.array(X).astype(float)\n",
    "y = np.array(y)  # Si quieres codificarla a 0/1, dime y te ayudo\n",
    "\n",
    "# Ver formas\n",
    "print(\"Shape de X:\", X.shape)\n",
    "print(\"Shape de y:\", y.shape)\n"
   ]
  },
  {
   "cell_type": "code",
   "execution_count": 46,
   "id": "310c9b88",
   "metadata": {},
   "outputs": [
    {
     "name": "stdout",
     "output_type": "stream",
     "text": [
      "(684, 36)\n"
     ]
    }
   ],
   "source": [
    "import csv\n",
    "import numpy\n",
    "\n",
    "filename = 'data/soybean.csv'\n",
    "raw_data = open(filename, 'r')\n",
    "reader = csv.reader(raw_data, delimiter=',', quoting=csv.QUOTE_NONE)\n",
    "x = list(reader)\n",
    "\n",
    "# Convertir a numpy array sin intentar pasarlo a float (por si hay texto)\n",
    "data = numpy.array(x)\n",
    "\n",
    "print(data.shape)\n"
   ]
  },
  {
   "cell_type": "code",
   "execution_count": 47,
   "id": "125df86a",
   "metadata": {},
   "outputs": [
    {
     "name": "stdout",
     "output_type": "stream",
     "text": [
      "(700, 11)\n"
     ]
    }
   ],
   "source": [
    "import csv\n",
    "import numpy\n",
    "\n",
    "filename = 'data/wisconsin.csv'\n",
    "raw_data = open(filename, 'r')\n",
    "reader = csv.reader(raw_data, delimiter=',', quoting=csv.QUOTE_NONE)\n",
    "x = list(reader)\n",
    "\n",
    "# Convertir a numpy array sin intentar pasarlo a float (por si hay texto)\n",
    "data = numpy.array(x)\n",
    "\n",
    "print(data.shape)\n"
   ]
  }
 ],
 "metadata": {
  "kernelspec": {
   "display_name": "Python 3",
   "language": "python",
   "name": "python3"
  },
  "language_info": {
   "codemirror_mode": {
    "name": "ipython",
    "version": 3
   },
   "file_extension": ".py",
   "mimetype": "text/x-python",
   "name": "python",
   "nbconvert_exporter": "python",
   "pygments_lexer": "ipython3",
   "version": "3.11.2"
  }
 },
 "nbformat": 4,
 "nbformat_minor": 5
}
