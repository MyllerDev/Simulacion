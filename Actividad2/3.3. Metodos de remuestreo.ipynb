{
 "cells": [
  {
   "cell_type": "code",
   "execution_count": 1,
   "metadata": {},
   "outputs": [
    {
     "name": "stderr",
     "output_type": "stream",
     "text": [
      "C:\\Users\\MI PC\\AppData\\Local\\Temp\\ipykernel_2024\\1126351303.py:2: DeprecationWarning: Importing display from IPython.core.display is deprecated since IPython 7.14, please import from IPython display\n",
      "  from IPython.core.display import display, HTML\n"
     ]
    },
    {
     "data": {
      "text/html": [
       "<style>.container{ width:98% }</style>"
      ],
      "text/plain": [
       "<IPython.core.display.HTML object>"
      ]
     },
     "metadata": {},
     "output_type": "display_data"
    }
   ],
   "source": [
    "# Permite ajustar la anchura de la parte útil de la libreta (reduce los márgenes)\n",
    "from IPython.core.display import display, HTML\n",
    "display(HTML(\"<style>.container{ width:98% }</style>\"))"
   ]
  },
  {
   "cell_type": "markdown",
   "metadata": {},
   "source": [
    "<a id=\"section11\"></a>\n",
    "## <font color=\"#004D7F\"> 1.1. Librerías y CSV</font>"
   ]
  },
  {
   "cell_type": "markdown",
   "metadata": {},
   "source": [
    "Como siempre cargamos el CSV que vamos a utilizar. Así mismo, vamos a cargar las librerías principales que utilizaremos en esta sección."
   ]
  },
  {
   "cell_type": "code",
   "execution_count": 1,
   "metadata": {},
   "outputs": [],
   "source": [
    "import numpy as np\n",
    "import pandas as pd\n",
    "import os\n",
    "\n",
    "filename = 'data/countries.csv'\n",
    "column_names = [\n",
    "    'alpha_2', 'alpha_3', 'area', 'capital', 'continent', 'currency_code', 'currency_name',\n",
    "    'eqivalent_fips_code', 'fips', 'geoname_id', 'languages', 'name', 'neighbours', 'numeric',\n",
    "    'phone', 'population', 'postal_code_format', 'postal_code_regex', 'tld'\n",
    "]\n",
    "\n",
    "if os.path.exists(filename):\n",
    "    dataframe = pd.read_csv(filename, sep=';', names=column_names, header=0)\n",
    "    array = dataframe.values\n",
    "    X = array[:, :-1]  # Todas las columnas excepto la última\n",
    "    Y = array[:, -1]   # Última columna (tld)\n",
    "else:\n",
    "    print(f\"Error: The file '{filename}' does not exist. Please check the file path.\")\n"
   ]
  },
  {
   "cell_type": "markdown",
   "metadata": {},
   "source": [
    "<div style=\"text-align: right\"> <font size=5>\n",
    "    <a href=\"#indice\"><i class=\"fa fa-arrow-circle-up\" aria-hidden=\"true\" style=\"color:#004D7F\"></i></a>\n",
    "</font></div>\n",
    "\n",
    "---"
   ]
  },
  {
   "cell_type": "markdown",
   "metadata": {},
   "source": [
    "<a id=\"section2\"></a>\n",
    "# <font color=\"#004D7F\"> 2. Validación cruzada</font>"
   ]
  },
  {
   "cell_type": "markdown",
   "metadata": {},
   "source": [
    "La validación cruzada es un proceso en la que se realizan $K$ particiones o **folds** de la base de datos y con ellos se realizan $K$ evaluaciones diferentes, de tal forma que todos los casos por lo menos una vez se encuentran en el conjunto de test. Básicamente en la evaluación $i$, la partición $i$ son los casos de test y el resto son los casos de entrenamiento. Finalmente, se realiza una media de los resultados obtenidos en las diferentes evaluaciones. En la siguiente imagen se ve un ejemplo de esto.\n",
    "\n",
    "<img src=\"https://static.oschina.net/uploads/img/201609/26155106_OfXx.png\" alt=\"cross-validation\" width=\"500\">"
   ]
  },
  {
   "cell_type": "markdown",
   "metadata": {},
   "source": [
    "<a id=\"section21\"></a>\n",
    "## <font color=\"#004D7F\"> 2.1. _k_-fold Cross Validation</font>"
   ]
  },
  {
   "cell_type": "markdown",
   "metadata": {},
   "source": [
    "El método de validación cruzada de _k-fold_ implica dividir el conjunto de datos en _k_-particiones, también llamados _fold_. Cada subconjunto se mantiene mientras el modelo se entrena en todos los demás particiones. Este proceso se repite hasta que se determina la precisión para cada instancia en el conjunto de datos, y se proporciona una estimación de precisión general. Es un método robusto para estimar la precisión, y el tamaño de _k_ puede ajustar la cantidad de sesgo en la estimación, con valores populares establecidos en 5 y 10. \n",
    "\n",
    "Puede ver que informamos tanto la media como la desviación estándar de la medida de rendimiento. Al resumir las medidas de rendimiento, es una buena práctica resumir la distribución de las medidas, en este caso suponiendo una distribución gaussiana del rendimiento (un supuesto muy razonable) y registrando la desviación estándar y media."
   ]
  },
  {
   "cell_type": "code",
   "execution_count": 12,
   "metadata": {},
   "outputs": [
    {
     "name": "stdout",
     "output_type": "stream",
     "text": [
      "Accuracy: 89.65% (5.46%)\n"
     ]
    }
   ],
   "source": [
    "import pandas as pd\n",
    "\n",
    "df = pd.read_csv('data/countries.csv', sep=';')\n",
    "\n",
    "# Selección de características útiles\n",
    "df['num_neighbours'] = df['neighbours'].fillna('').apply(lambda x: len(x.split(',')) if x else 0)\n",
    "df['main_language'] = df['languages'].fillna('').apply(lambda x: x.split(',')[0] if x else 'unknown')\n",
    "df['phone_code'] = df['phone'].str.extract(r'(\\d+)').fillna(0).astype(int)\n",
    "\n",
    "\n",
    "# Características finales\n",
    "features = ['area', 'population', 'phone_code', 'num_neighbours']\n",
    "X = df[features].fillna(0)\n",
    "\n",
    "# Codificar variable objetivo\n",
    "from sklearn.preprocessing import LabelEncoder, StandardScaler\n",
    "Y = df['continent']\n",
    "Y_encoded = LabelEncoder().fit_transform(Y)\n",
    "\n",
    "# Escalar\n",
    "X_scaled = StandardScaler().fit_transform(X)\n",
    "\n",
    "# Modelo y validación\n",
    "from sklearn.model_selection import KFold, cross_val_score\n",
    "from sklearn.ensemble import RandomForestClassifier\n",
    "\n",
    "kfold = KFold(n_splits=10, shuffle=True, random_state=7)\n",
    "model = RandomForestClassifier(n_estimators=100, random_state=7)\n",
    "results = cross_val_score(model, X_scaled, Y_encoded, cv=kfold)\n",
    "\n",
    "print(f\"Accuracy: {results.mean()*100:.2f}% ({results.std()*100:.2f}%)\")\n"
   ]
  },
  {
   "cell_type": "markdown",
   "metadata": {},
   "source": [
    "<div class=\"alert alert-block alert-info\">\n",
    "    \n",
    "<i class=\"fa fa-info-circle\" aria-hidden=\"true\"></i>\n",
    "Puede obtener más información en la documentación oficial de Scikit-Learn sobre la clase [`KFold`](https://scikit-learn.org/stable/modules/generated/sklearn.model_selection.KFold.html?highlight=kfold#sklearn.model_selection.KFold).\n",
    "</div>"
   ]
  },
  {
   "cell_type": "markdown",
   "metadata": {},
   "source": [
    "<a id=\"section22\"></a>\n",
    "## <font color=\"#004D7F\"> 2.2. Validación cruzada repetida</font>"
   ]
  },
  {
   "cell_type": "markdown",
   "metadata": {},
   "source": [
    "Una extensión de esta técnica de entrenamiento/validación es el poder repetir varias veces el proceso de dividir los datos _k-fold_. En este caso, la precisión final del modelo se toma como la media del número de repeticiones.\n",
    "\n",
    "Al igual que el caso anterior podemos observar que nos informa tanto la media como la desviación estándar de la medida de rendimiento."
   ]
  },
  {
   "cell_type": "code",
   "execution_count": 14,
   "metadata": {},
   "outputs": [
    {
     "name": "stdout",
     "output_type": "stream",
     "text": [
      "Repeated K-Fold Accuracy: 88.87% (±7.00%)\n"
     ]
    }
   ],
   "source": [
    "import pandas as pd\n",
    "from sklearn.preprocessing import LabelEncoder, StandardScaler\n",
    "from sklearn.model_selection import RepeatedKFold, cross_val_score\n",
    "from sklearn.ensemble import GradientBoostingClassifier\n",
    "\n",
    "# Cargar datos\n",
    "df = pd.read_csv('data/countries.csv', sep=';')\n",
    "\n",
    "# Crear variables útiles\n",
    "df['num_neighbours'] = df['neighbours'].fillna('').apply(lambda x: len(x.split(',')) if x else 0)\n",
    "df['main_language'] = df['languages'].fillna('').apply(lambda x: x.split(',')[0] if x else 'unknown')\n",
    "df['phone_code'] = df['phone'].str.extract(r'(\\d+)').fillna(0).astype(int)\n",
    "df['main_language_encoded'] = LabelEncoder().fit_transform(df['main_language'])\n",
    "\n",
    "# Features y objetivo\n",
    "X = df[['area', 'population', 'phone_code', 'num_neighbours', 'main_language_encoded']].fillna(0)\n",
    "Y = LabelEncoder().fit_transform(df['continent'])\n",
    "\n",
    "# Escalado\n",
    "X_scaled = StandardScaler().fit_transform(X)\n",
    "\n",
    "# Repeated K-Fold (10 folds, 3 repeticiones)\n",
    "rkf = RepeatedKFold(n_splits=10, n_repeats=3, random_state=7)\n",
    "\n",
    "# Modelo\n",
    "model = GradientBoostingClassifier(n_estimators=100, random_state=7)\n",
    "results = cross_val_score(model, X_scaled, Y, cv=rkf)\n",
    "\n",
    "# Resultado\n",
    "print(f\"Repeated K-Fold Accuracy: {results.mean()*100:.2f}% (±{results.std()*100:.2f}%)\")\n"
   ]
  },
  {
   "cell_type": "markdown",
   "metadata": {},
   "source": [
    "<div class=\"alert alert-block alert-info\">\n",
    "    \n",
    "<i class=\"fa fa-info-circle\" aria-hidden=\"true\"></i>\n",
    "Puede obtener más información en la documentación oficial de Scikit-Learn sobre la clase [`RepeatedKFold`](https://scikit-learn.org/stable/modules/generated/sklearn.model_selection.RepeatedKFold.html?highlight=kfold#sklearn.model_selection.RepeatedKFold).\n",
    "</div>"
   ]
  },
  {
   "cell_type": "markdown",
   "metadata": {},
   "source": [
    "<a id=\"section23\"></a>\n",
    "## <font color=\"#004D7F\"> 2.3. Validación cruzada dejando uno fuera</font>"
   ]
  },
  {
   "cell_type": "markdown",
   "metadata": {},
   "source": [
    "En Validación cruzada dejando uno fuera (Leave One Out Cross Validation, LOOCV), se omite una instancia de datos y se construye un modelo en todas las demás instancias de datos en el conjunto de entrenamiento, repitiéndose este proceso para todas las instancias de datos. El resultado es una gran cantidad de medidas de rendimiento que se pueden resumir en un esfuerzo por proporcionar una estimación más razonable del _Accuracy_ de su modelo. \n",
    "\n",
    "Puede ver en la desviación estándar que la puntuación tiene más varianza que los resultados de validación cruzada _k-fold_ descritos anteriormente."
   ]
  },
  {
   "cell_type": "code",
   "execution_count": 17,
   "metadata": {},
   "outputs": [
    {
     "name": "stdout",
     "output_type": "stream",
     "text": [
      "Leave-One-Out Accuracy: 88.89% (±31.43%)\n"
     ]
    }
   ],
   "source": [
    "import pandas as pd\n",
    "from sklearn.preprocessing import LabelEncoder, StandardScaler\n",
    "from sklearn.model_selection import LeaveOneOut, cross_val_score\n",
    "from sklearn.ensemble import GradientBoostingClassifier\n",
    "\n",
    "# Cargar datos\n",
    "df = pd.read_csv('data/countries.csv', sep=';')\n",
    "\n",
    "# Crear características útiles\n",
    "df['num_neighbours'] = df['neighbours'].fillna('').apply(lambda x: len(x.split(',')) if x else 0)\n",
    "df['main_language'] = df['languages'].fillna('').apply(lambda x: x.split(',')[0] if x else 'unknown')\n",
    "df['phone_code'] = df['phone'].str.extract(r'(\\d+)').fillna(0).astype(int)\n",
    "df['main_language_encoded'] = LabelEncoder().fit_transform(df['main_language'])\n",
    "\n",
    "# Seleccionar características y objetivo\n",
    "X = df[['area', 'population', 'phone_code', 'num_neighbours', 'main_language_encoded']].fillna(0)\n",
    "Y = LabelEncoder().fit_transform(df['continent'])\n",
    "\n",
    "# Escalar características\n",
    "X_scaled = StandardScaler().fit_transform(X)\n",
    "\n",
    "# Leave-One-Out Cross-Validation\n",
    "loo = LeaveOneOut()\n",
    "model = GradientBoostingClassifier(n_estimators=100, random_state=7)\n",
    "results = cross_val_score(model, X_scaled, Y, cv=loo)\n",
    "\n",
    "# Resultado\n",
    "print(f\"Leave-One-Out Accuracy: {results.mean()*100:.2f}% (±{results.std()*100:.2f}%)\")\n"
   ]
  },
  {
   "cell_type": "markdown",
   "metadata": {},
   "source": [
    "<div class=\"alert alert-block alert-info\">\n",
    "    \n",
    "<i class=\"fa fa-info-circle\" aria-hidden=\"true\"></i>\n",
    "Puede obtener más información en la documentación oficial de Scikit-Learn sobre la clase [`LeaveOneOut`](https://scikit-learn.org/stable/modules/generated/sklearn.model_selection.LeaveOneOut.html?highlight=leaveoneout#sklearn.model_selection.LeaveOneOut).\n",
    "</div>"
   ]
  },
  {
   "cell_type": "markdown",
   "metadata": {},
   "source": [
    "<div style=\"text-align: right\"> <font size=5>\n",
    "    <a href=\"#indice\"><i class=\"fa fa-arrow-circle-up\" aria-hidden=\"true\" style=\"color:#004D7F\"></i></a>\n",
    "</font></div>\n",
    "\n",
    "---"
   ]
  },
  {
   "cell_type": "markdown",
   "metadata": {},
   "source": [
    "<a id=\"section3\"></a>\n",
    "# <font color=\"#004D7F\"> 3. División en porcentaje</font>"
   ]
  },
  {
   "cell_type": "markdown",
   "metadata": {},
   "source": [
    "<a id=\"section31\"></a>\n",
    "## <font color=\"#004D7F\"> 3.1. División en porcentaje train/test</font>"
   ]
  },
  {
   "cell_type": "markdown",
   "metadata": {},
   "source": [
    "La división de datos implica la partición de los datos en un conjunto de datos de entrenamiento explícito utilizado para preparar el modelo y un conjunto de datos de validación invisible (se dice validación invisible ya que aunque se conozca el atributo clase el modelo lo omitirá para una vez realizada la predicción compararlo para ver si ha acertado) que se utiliza para evaluar el rendimiento del modelo en datos no etiquetados. \n",
    "\n",
    "En el ejemplo a continuación, dividimos el conjunto de datos de los indios Pima en divisiones de 67%/33% para entrenamiento y prueba y evaluar el Accuracy de un modelo Logistic Regression."
   ]
  },
  {
   "cell_type": "code",
   "execution_count": 18,
   "metadata": {},
   "outputs": [
    {
     "name": "stdout",
     "output_type": "stream",
     "text": [
      "Train/Test Split Accuracy: 88.24%\n"
     ]
    }
   ],
   "source": [
    "import pandas as pd\n",
    "from sklearn.preprocessing import LabelEncoder, StandardScaler\n",
    "from sklearn.model_selection import train_test_split\n",
    "from sklearn.ensemble import GradientBoostingClassifier\n",
    "from sklearn.metrics import accuracy_score\n",
    "\n",
    "# Cargar datos\n",
    "df = pd.read_csv('data/countries.csv', sep=';')\n",
    "\n",
    "# Crear características útiles\n",
    "df['num_neighbours'] = df['neighbours'].fillna('').apply(lambda x: len(x.split(',')) if x else 0)\n",
    "df['main_language'] = df['languages'].fillna('').apply(lambda x: x.split(',')[0] if x else 'unknown')\n",
    "df['phone_code'] = df['phone'].str.extract(r'(\\d+)').fillna(0).astype(int)\n",
    "df['main_language_encoded'] = LabelEncoder().fit_transform(df['main_language'])\n",
    "\n",
    "# Seleccionar características y objetivo\n",
    "X = df[['area', 'population', 'phone_code', 'num_neighbours', 'main_language_encoded']].fillna(0)\n",
    "Y = LabelEncoder().fit_transform(df['continent'])\n",
    "\n",
    "# Escalar características\n",
    "X_scaled = StandardScaler().fit_transform(X)\n",
    "\n",
    "# División en Train/Test (80% para entrenar, 20% para probar)\n",
    "X_train, X_test, Y_train, Y_test = train_test_split(X_scaled, Y, test_size=0.2, random_state=7)\n",
    "\n",
    "# Entrenamiento del modelo\n",
    "model = GradientBoostingClassifier(n_estimators=100, random_state=7)\n",
    "model.fit(X_train, Y_train)\n",
    "\n",
    "# Predicción\n",
    "Y_pred = model.predict(X_test)\n",
    "\n",
    "# Evaluación\n",
    "accuracy = accuracy_score(Y_test, Y_pred)\n",
    "print(f\"Train/Test Split Accuracy: {accuracy * 100:.2f}%\")\n"
   ]
  },
  {
   "cell_type": "markdown",
   "metadata": {},
   "source": [
    "<div class=\"alert alert-block alert-info\">\n",
    "    \n",
    "<i class=\"fa fa-info-circle\" aria-hidden=\"true\"></i>\n",
    "Puede obtener más información en la documentación oficial de Scikit-Learn sobre la clase [`train_test_split`](https://scikit-learn.org/stable/modules/generated/sklearn.model_selection.train_test_split.html?highlight=train_test_split#sklearn.model_selection.train_test_split).\n",
    "</div>"
   ]
  },
  {
   "cell_type": "markdown",
   "metadata": {},
   "source": [
    "<a id=\"section32\"></a>\n",
    "## <font color=\"#004D7F\"> 3.2. División train/test repetidos aleatoriamente</font>"
   ]
  },
  {
   "cell_type": "markdown",
   "metadata": {},
   "source": [
    "Otra variación en la validación cruzada de k-fold es crear una división aleatoria de los datos como la división de train/test descrita anteriormente, pero repetir el proceso de división y evaluación del algoritmo varias veces, como la validación cruzada. El siguiente ejemplo divide los datos en una división de train/test del 67%/33% y repite el proceso 10 veces.\n",
    "\n",
    "Podemos ver que en este caso la distribución de la medida de desempeño está a la par con _k_-fold cross validation pero reducimos la varianza considerablemente."
   ]
  },
  {
   "cell_type": "code",
   "execution_count": 20,
   "metadata": {},
   "outputs": [
    {
     "name": "stdout",
     "output_type": "stream",
     "text": [
      "ShuffleSplit Accuracy: 87.14% (±1.04%)\n"
     ]
    }
   ],
   "source": [
    "import pandas as pd\n",
    "import numpy as np\n",
    "from sklearn.model_selection import ShuffleSplit, cross_val_score\n",
    "from sklearn.preprocessing import LabelEncoder, StandardScaler\n",
    "from sklearn.ensemble import GradientBoostingClassifier\n",
    "\n",
    "# Cargar datos\n",
    "df = pd.read_csv('data/countries.csv', sep=';')\n",
    "\n",
    "# Crear características útiles\n",
    "df['num_neighbours'] = df['neighbours'].fillna('').apply(lambda x: len(x.split(',')) if x else 0)\n",
    "df['main_language'] = df['languages'].fillna('').apply(lambda x: x.split(',')[0] if x else 'unknown')\n",
    "df['phone_code'] = df['phone'].str.extract(r'(\\d+)').fillna(0).astype(int)\n",
    "df['main_language_encoded'] = LabelEncoder().fit_transform(df['main_language'])\n",
    "\n",
    "# Seleccionar características y objetivo\n",
    "X = df[['area', 'population', 'phone_code', 'num_neighbours', 'main_language_encoded']].fillna(0)\n",
    "Y = LabelEncoder().fit_transform(df['continent'])\n",
    "\n",
    "# Escalar características\n",
    "X_scaled = StandardScaler().fit_transform(X)\n",
    "\n",
    "# Configurar ShuffleSplit: 10 repeticiones con 67% train y 33% test\n",
    "shuffle_split = ShuffleSplit(n_splits=10, test_size=0.33, random_state=7)\n",
    "\n",
    "# Modelo\n",
    "model = GradientBoostingClassifier(n_estimators=100, random_state=7)\n",
    "\n",
    "# Evaluar con cross_val_score y ShuffleSplit\n",
    "results = cross_val_score(model, X_scaled, Y, cv=shuffle_split)\n",
    "\n",
    "# Mostrar resultados\n",
    "print(f\"ShuffleSplit Accuracy: {results.mean() * 100:.2f}% (±{results.std() * 100:.2f}%)\")\n"
   ]
  },
  {
   "cell_type": "markdown",
   "metadata": {},
   "source": [
    "<div class=\"alert alert-block alert-info\">\n",
    "    \n",
    "<i class=\"fa fa-info-circle\" aria-hidden=\"true\"></i>\n",
    "Puede obtener más información en la documentación oficial de Scikit-Learn sobre la clase [`ShuffleSplit`](https://scikit-learn.org/stable/modules/generated/sklearn.model_selection.ShuffleSplit.html?highlight=shufflesplit#sklearn.model_selection.ShuffleSplit).\n",
    "</div>"
   ]
  },
  {
   "cell_type": "markdown",
   "metadata": {},
   "source": [
    "<div style=\"text-align: right\"> <font size=5>\n",
    "    <a href=\"#indice\"><i class=\"fa fa-arrow-circle-up\" aria-hidden=\"true\" style=\"color:#004D7F\"></i></a>\n",
    "</font></div>\n",
    "\n",
    "---"
   ]
  },
  {
   "cell_type": "markdown",
   "metadata": {},
   "source": [
    "<a id=\"section4\"></a>\n",
    "# <font color=\"#004D7F\"> 4. Qué técnica usar</font>"
   ]
  },
  {
   "cell_type": "markdown",
   "metadata": {},
   "source": [
    "Esta sección enumera algunos consejos para considerar qué técnica de remuestreo usar en diferentes circunstancias.\n",
    "* Por lo general, la validación cruzada de _k-fold_ es el estándar defacto para evaluar el rendimiento de un algoritmo en datos no etiquetados con _k_ configurado en 3, 5 o 10.\n",
    "* El uso de una división de train/test es buena para la velocidad cuando se usa un algoritmo lento y produce estimaciones de rendimiento con un sesgo más bajo cuando se usan conjuntos de datos grandes.\n",
    "* Las técnicas como LOOCV y las divisiones aleatorias repetidas pueden ser intermedios útiles cuando se trata de equilibrar la variación en el rendimiento estimado, la velocidad de entrenamiento del modelo y el tamaño del conjunto de datos.\n",
    "\n",
    "El mejor consejo es experimentar y encontrar una técnica para su problema que sea rápida y produzca estimaciones razonables de rendimiento que pueda usar para tomar decisiones. En caso de duda, utilice la validación cruzada con un _k-fold_ de 10."
   ]
  },
  {
   "cell_type": "markdown",
   "metadata": {},
   "source": [
    "<div style=\"text-align: right\"> <font size=5>\n",
    "    <a href=\"#indice\"><i class=\"fa fa-arrow-circle-up\" aria-hidden=\"true\" style=\"color:#004D7F\"></i></a>\n",
    "</font></div>\n",
    "\n",
    "---\n",
    "\n",
    "<div style=\"text-align: right\"> <font size=6><i class=\"fa fa-coffee\" aria-hidden=\"true\" style=\"color:#004D7F\"></i> </font></div>"
   ]
  }
 ],
 "metadata": {
  "kernelspec": {
   "display_name": "base",
   "language": "python",
   "name": "python3"
  },
  "language_info": {
   "codemirror_mode": {
    "name": "ipython",
    "version": 3
   },
   "file_extension": ".py",
   "mimetype": "text/x-python",
   "name": "python",
   "nbconvert_exporter": "python",
   "pygments_lexer": "ipython3",
   "version": "3.12.7"
  },
  "toc": {
   "base_numbering": 1,
   "nav_menu": {},
   "number_sections": false,
   "sideBar": true,
   "skip_h1_title": true,
   "title_cell": "Table of Contents",
   "title_sidebar": "Contents",
   "toc_cell": false,
   "toc_position": {},
   "toc_section_display": true,
   "toc_window_display": false
  }
 },
 "nbformat": 4,
 "nbformat_minor": 4
}
